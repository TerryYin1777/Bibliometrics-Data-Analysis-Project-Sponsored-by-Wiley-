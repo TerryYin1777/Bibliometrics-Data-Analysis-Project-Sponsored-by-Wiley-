{
 "cells": [
  {
   "cell_type": "markdown",
   "metadata": {},
   "source": [
    "### Import Packages"
   ]
  },
  {
   "cell_type": "code",
   "execution_count": 64,
   "metadata": {
    "collapsed": true
   },
   "outputs": [],
   "source": [
    "from selenium import webdriver\n",
    "from selenium.webdriver.common.desired_capabilities import DesiredCapabilities\n",
    "from fake_useragent import UserAgent\n",
    "from selenium.webdriver.support.ui import WebDriverWait\n",
    "from selenium.webdriver.support import expected_conditions as EC\n",
    "from selenium.webdriver.common.by import By\n",
    "from selenium.common.exceptions import TimeoutException\n",
    "import os\n",
    "import time"
   ]
  },
  {
   "cell_type": "markdown",
   "metadata": {},
   "source": [
    "### Define Scraper Driver"
   ]
  },
  {
   "cell_type": "markdown",
   "metadata": {},
   "source": [
    "Here, chromedriver is used as the driver for scraping, use the driver by download a chrome driver from chrome website and specifying the directory where you put your dirver as in 'chrome_driver_directory'"
   ]
  },
  {
   "cell_type": "code",
   "execution_count": 98,
   "metadata": {
    "collapsed": true
   },
   "outputs": [],
   "source": [
    "ua=UserAgent()\n",
    "dcap = dict(DesiredCapabilities.PHANTOMJS)\n",
    "dcap[\"phantomjs.page.settings.userAgent\"] = (ua.random)\n",
    "service_args=['--ssl-protocol=any','--ignore-ssl-errors=true']\n",
    "driver = webdriver.Chrome('chrome_driver_directory',desired_capabilities=dcap,service_args=service_args)"
   ]
  },
  {
   "cell_type": "markdown",
   "metadata": {},
   "source": [
    "### Scraping Data From Web of Science"
   ]
  },
  {
   "cell_type": "code",
   "execution_count": 99,
   "metadata": {
    "collapsed": true
   },
   "outputs": [],
   "source": [
    "driver.get('https://www.webofknowledge.com/')"
   ]
  },
  {
   "cell_type": "markdown",
   "metadata": {},
   "source": [
    "If you have a Web of Science account, you could substitute 'my_username' by your actual username, as well as 'my_password' by your actual password."
   ]
  },
  {
   "cell_type": "code",
   "execution_count": null,
   "metadata": {},
   "outputs": [],
   "source": [
    "username=driver.find_element_by_name('username')\n",
    "username.send_keys('my_username')\n",
    "password = driver.find_element_by_name('password')\n",
    "password.send_keys('my_password')\n",
    "signin = driver.find_element_by_xpath('//*[@id=\"WoKerror\"]/div/table[2]/tbody/tr/td[2]/form[1]/table/tbody/tr[3]/td[2]/a/input')\n",
    "signin.click()"
   ]
  },
  {
   "cell_type": "code",
   "execution_count": null,
   "metadata": {},
   "outputs": [],
   "source": [
    "newsession = driver.find_element_by_xpath('//*[@id=\"WoKerror\"]/div/table[2]/tbody/tr/td[2]/p/a[1]')\n",
    "newsession.click()"
   ]
  },
  {
   "cell_type": "code",
   "execution_count": 100,
   "metadata": {
    "collapsed": true
   },
   "outputs": [],
   "source": [
    "search_typein = driver.find_element_by_xpath('//*[@id=\"value(input1)\"]')\n",
    "search_typein.send_keys('''biomaterials OR \"biomedical materials\"''')\n",
    "search_button = driver.find_element_by_id('WOS_GeneralSearch_input_form_sb')\n",
    "search_button.click()"
   ]
  },
  {
   "cell_type": "code",
   "execution_count": null,
   "metadata": {
    "collapsed": true
   },
   "outputs": [],
   "source": [
    "# try:\n",
    "#     myElem = WebDriverWait(driver, 10).until(EC.presence_of_element_located((By.ID, 'DocumentType_1')))\n",
    "# except TimeoutException:\n",
    "#     print (\"Loading took too much time!\")\n",
    "# Document_type = driver.find_element_by_id('DocumentType_1').click()\n",
    "# driver.find_elements_by_class_name('button3')[0].click()"
   ]
  },
  {
   "cell_type": "code",
   "execution_count": 101,
   "metadata": {
    "collapsed": true
   },
   "outputs": [],
   "source": [
    "outputpath = '/Users/tylio/Google Drive/2018 spring/686/Wiley Sponsered Project/Data/(40000+)_by_year'\n",
    "if not os.path.exists(outputpath):\n",
    "        os.makedirs(outputpath)\n",
    "\n",
    "for i in range(1,48):\n",
    "    driver.find_element_by_xpath('//*[@id=\"PublicationYear_tr\"]/div[2]').click()\n",
    "\n",
    "    Xpath = '//*[@id=\"IY_' + str(i) + '\"]'\n",
    "    year_value = driver.find_element_by_xpath(Xpath).get_attribute('value')[-4:]\n",
    "       \n",
    "    driver.find_element_by_xpath(Xpath).click()\n",
    "    driver.find_element_by_xpath('//*[@id=\"raMore\"]/table/tbody/tr[6]/td/table/tbody/tr/td[1]/div/input').click()\n",
    "    index_from = 1\n",
    "    records_number = int(driver.find_element_by_id('hitCount.top').text.replace(',',''))\n",
    "\n",
    "    while(index_from <= records_number):\n",
    "        if index_from+499<=records_number:\n",
    "            index_to = index_from+499\n",
    "        else:\n",
    "            index_to = records_number\n",
    "        driver.find_element_by_xpath('//*[@id=\"page\"]/div[1]/div[25]/div[2]/div/div/div/div[2]/div[3]/div[2]/div/div/div/div[1]/ul/li[3]/div/span/span/span[1]/span/span[2]').click()\n",
    "        driver.find_elements_by_class_name('select2-results__option')[4].click()\n",
    "        driver.find_element_by_xpath('//*[@id=\"numberOfRecordsRange\"]').click()\n",
    "        driver.find_element_by_id('markFrom').send_keys(str(index_from))\n",
    "        driver.find_element_by_id('markTo').send_keys(str(index_to))\n",
    "        driver.find_element_by_xpath('//*[@id=\"ui-id-7\"]/form/div[2]/div[2]/span').click()\n",
    "        driver.find_elements_by_class_name('select2-results__option')[3].click()\n",
    "        driver.find_element_by_xpath('//*[@id=\"saveOptions\"]/option[8]').click()\n",
    "        driver.find_element_by_xpath('//*[@id=\"ui-id-7\"]/form/div[4]/span/input').click()\n",
    "        #driver.find_element_by_xpath('//*[@id=\"ui-id-7\"]/form/div[2]/a').click()\n",
    "        driver.refresh()\n",
    "        time.sleep(3)\n",
    "\n",
    "        os.rename('/Users/tylio/Downloads/savedrecs.txt', os.path.join(outputpath,year_value +'-'+ str(index_from) + '-' + str(index_to) + '.txt'))\n",
    "            \n",
    "        index_from+=500\n",
    "\n",
    "    driver.back()\n",
    "    driver.back()"
   ]
  },
  {
   "cell_type": "code",
   "execution_count": 63,
   "metadata": {
    "collapsed": true
   },
   "outputs": [],
   "source": [
    "os.rename('/Users/tylio/Downloads/savedrecs.txt', os.path.join(outputpath,year_value +'-'+ str(index_from) + '-' + str(index_to) + '.txt'))"
   ]
  },
  {
   "cell_type": "code",
   "execution_count": 50,
   "metadata": {
    "collapsed": true
   },
   "outputs": [],
   "source": [
    "driver.find_element_by_xpath('//*[@id=\"raMore\"]/table/tbody/tr[6]/td/table/tbody/tr/td[1]/div/input').click()"
   ]
  },
  {
   "cell_type": "code",
   "execution_count": 108,
   "metadata": {
    "collapsed": true
   },
   "outputs": [],
   "source": [
    "records_number = int(driver.find_element_by_id('hitCount.top').text.replace(',',''))"
   ]
  },
  {
   "cell_type": "code",
   "execution_count": 109,
   "metadata": {
    "collapsed": true
   },
   "outputs": [],
   "source": [
    "index_from = 1\n",
    "while(index_from <= records_number):\n",
    "    if index_from+499<=records_number:\n",
    "        index_to = index_from+499\n",
    "    else:\n",
    "        index_to = records_number\n",
    "    driver.find_element_by_xpath('//*[@id=\"page\"]/div[1]/div[25]/div[2]/div/div/div/div[2]/div[3]/div[2]/div/div/div/div[1]/ul/li[3]/div/span/span/span[1]/span/span[2]').click()\n",
    "    driver.find_elements_by_class_name('select2-results__option')[4].click()\n",
    "    driver.find_element_by_xpath('//*[@id=\"numberOfRecordsRange\"]').click()\n",
    "    driver.find_element_by_id('markFrom').send_keys(str(index_from))\n",
    "    driver.find_element_by_id('markTo').send_keys(str(index_to))\n",
    "    driver.find_element_by_xpath('//*[@id=\"ui-id-7\"]/form/div[2]/div[2]/span').click()\n",
    "    driver.find_elements_by_class_name('select2-results__option')[3].click()\n",
    "    driver.find_element_by_xpath('//*[@id=\"saveOptions\"]/option[8]').click()\n",
    "    driver.find_element_by_xpath('//*[@id=\"ui-id-7\"]/form/div[4]/span/input').click()\n",
    "    driver.find_element_by_xpath('//*[@id=\"ui-id-7\"]/form/div[2]/a').click()\n",
    "    driver.refresh()\n",
    "    index_from+=500"
   ]
  },
  {
   "cell_type": "markdown",
   "metadata": {
    "collapsed": true
   },
   "source": [
    "### Rename and store the file packages downloaded"
   ]
  },
  {
   "cell_type": "code",
   "execution_count": 65,
   "metadata": {
    "collapsed": true
   },
   "outputs": [],
   "source": [
    "import os"
   ]
  },
  {
   "cell_type": "code",
   "execution_count": 77,
   "metadata": {
    "collapsed": true
   },
   "outputs": [],
   "source": [
    "os.chdir('data_directory')"
   ]
  },
  {
   "cell_type": "code",
   "execution_count": 78,
   "metadata": {
    "collapsed": true
   },
   "outputs": [],
   "source": [
    "for filename in os.listdir():\n",
    "    if len(filename)>5:\n",
    "        if '(' not in filename:\n",
    "            os.rename(filename,filename[:9]+' ('+str(201)+')'+filename[-4:])\n",
    "        else:\n",
    "            os.rename(filename,filename[:11]+str(201+int(filename[11:-5]))+filename[-5:])"
   ]
  },
  {
   "cell_type": "code",
   "execution_count": 90,
   "metadata": {
    "collapsed": true
   },
   "outputs": [],
   "source": [
    "for filename in os.listdir():\n",
    "    os.rename(filename,filename[:11]+str(int(filename[11:-5])-200)+filename[-5:])"
   ]
  },
  {
   "cell_type": "code",
   "execution_count": 93,
   "metadata": {
    "collapsed": true
   },
   "outputs": [],
   "source": [
    "os.chdir('data_directory')"
   ]
  },
  {
   "cell_type": "code",
   "execution_count": 92,
   "metadata": {
    "collapsed": true
   },
   "outputs": [],
   "source": [
    "for filename in os.listdir():\n",
    "    if len(filename)>5:\n",
    "        if '(' not in filename:\n",
    "            os.rename(filename,filename[:9]+' ('+str(201)+')'+filename[-4:])\n",
    "        else:\n",
    "            os.rename(filename,filename[:11]+str(201+int(filename[11:-5]))+filename[-5:])"
   ]
  },
  {
   "cell_type": "code",
   "execution_count": 94,
   "metadata": {
    "collapsed": true
   },
   "outputs": [],
   "source": [
    "for filename in os.listdir():\n",
    "    os.rename(filename,filename[:11]+str(int(filename[11:-5])-99)+filename[-5:])"
   ]
  },
  {
   "cell_type": "code",
   "execution_count": null,
   "metadata": {
    "collapsed": true
   },
   "outputs": [],
   "source": []
  },
  {
   "cell_type": "code",
   "execution_count": null,
   "metadata": {
    "collapsed": true
   },
   "outputs": [],
   "source": []
  }
 ],
 "metadata": {
  "anaconda-cloud": {},
  "kernelspec": {
   "display_name": "Python [default]",
   "language": "python",
   "name": "python3"
  },
  "language_info": {
   "codemirror_mode": {
    "name": "ipython",
    "version": 3
   },
   "file_extension": ".py",
   "mimetype": "text/x-python",
   "name": "python",
   "nbconvert_exporter": "python",
   "pygments_lexer": "ipython3",
   "version": "3.5.4"
  }
 },
 "nbformat": 4,
 "nbformat_minor": 1
}
