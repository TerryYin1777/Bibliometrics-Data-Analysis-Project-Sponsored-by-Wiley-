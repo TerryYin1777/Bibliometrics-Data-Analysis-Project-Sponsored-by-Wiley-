{
 "cells": [
  {
   "cell_type": "markdown",
   "metadata": {},
   "source": [
    "### Import Packages"
   ]
  },
  {
   "cell_type": "code",
   "execution_count": 1,
   "metadata": {},
   "outputs": [
    {
     "name": "stderr",
     "output_type": "stream",
     "text": [
      "//anaconda/lib/python3.5/site-packages/statsmodels/compat/pandas.py:56: FutureWarning: The pandas.core.datetools module is deprecated and will be removed in a future version. Please use the pandas.tseries module instead.\n",
      "  from pandas.core import datetools\n"
     ]
    }
   ],
   "source": [
    "import os\n",
    "import csv\n",
    "import numpy as np\n",
    "import pandas as pd\n",
    "import matplotlib.pyplot as plt\n",
    "import re\n",
    "import seaborn as sns\n",
    "from nltk.corpus import stopwords\n",
    "import string\n",
    "from nltk import word_tokenize,ne_chunk,pos_tag,wordpunct_tokenize\n",
    "import rake_nltk\n",
    "from nltk.util import ngrams\n",
    "from nltk.stem import WordNetLemmatizer,PorterStemmer\n",
    "from itertools import chain, groupby, product\n",
    "from collections import defaultdict, Counter\n",
    "import networkx as nx\n",
    "from networkx.algorithms import community\n",
    "from gensim.models import Word2Vec,KeyedVectors\n",
    "from gensim.scripts.glove2word2vec import glove2word2vec\n",
    "from gensim.models.ldamodel import LdaModel\n",
    "import gensim\n",
    "import statsmodels.api as sm\n",
    "from sklearn.decomposition import LatentDirichletAllocation\n",
    "from sklearn.preprocessing import MinMaxScaler\n",
    "from sklearn.feature_extraction.text import CountVectorizer\n",
    "from sklearn.linear_model import LinearRegression\n",
    "from scipy.stats import ttest_ind\n",
    "from scipy.stats import normaltest\n",
    "% matplotlib notebook"
   ]
  },
  {
   "cell_type": "markdown",
   "metadata": {},
   "source": [
    "### Load Data"
   ]
  },
  {
   "cell_type": "code",
   "execution_count": 3,
   "metadata": {},
   "outputs": [
    {
     "name": "stderr",
     "output_type": "stream",
     "text": [
      "//anaconda/lib/python3.5/site-packages/IPython/core/interactiveshell.py:2717: DtypeWarning: Columns (2,3,4,6,7,10,40,48,50,55,56) have mixed types. Specify dtype option on import or set low_memory=False.\n",
      "  interactivity=interactivity, compiler=compiler, result=result)\n"
     ]
    }
   ],
   "source": [
    "all_data_store_path = '/Users/tylio/Google Drive/2018 spring/686/Wiley Sponsered Project/Data'\n",
    "current_data_folder_name = '(40000+)_by_year'\n",
    "current_data_store_path = os.path.join(all_data_store_path,current_data_folder_name)\n",
    "data = pd.read_csv(os.path.join(current_data_store_path,'wholeFile_with_wholeTopic_v2_2.csv'))"
   ]
  },
  {
   "cell_type": "code",
   "execution_count": 29,
   "metadata": {
    "collapsed": true
   },
   "outputs": [],
   "source": [
    "topic_map = pd.read_csv(os.path.join(current_data_store_path,'topic_map_v2_2.csv'))"
   ]
  },
  {
   "cell_type": "markdown",
   "metadata": {},
   "source": [
    "### Classify the General Trend of the Topics as Shrinking or Growing"
   ]
  },
  {
   "cell_type": "code",
   "execution_count": 5,
   "metadata": {
    "collapsed": true
   },
   "outputs": [],
   "source": [
    "# def get_moving_average_array(series,lag):\n",
    "#     help_df = pd.DataFrame(series)\n",
    "#     for i in range(lag-1):\n",
    "#         help_df.loc[:,i+1] = series.shift(-(i+1))\n",
    "#     result = help_df.mean(axis = 1,skipna = False).dropna()\n",
    "#     return result\n",
    "        \n",
    "# def get_X_array_MA(lag):\n",
    "#     array = list(range(1995,2017-lag+2))\n",
    "#     median = np.median(array)\n",
    "#     result = (np.array(array)-median)*0.01\n",
    "#     return result\n",
    "\n",
    "def get_X_array_normal(start_year,end_year):\n",
    "    array = list(range(start_year,end_year))\n",
    "    median = np.median(array)\n",
    "    result = (np.array(array)-median)*0.01\n",
    "    return result\n",
    "\n",
    "def get_Xy_for_ols(start_year,end_year,series,lag = 2,MA = False):\n",
    "    if MA:   \n",
    "        X = get_X_array(lag)\n",
    "        y = get_moving_average_array(series,lag)\n",
    "    else:\n",
    "        X = get_X_array_normal(start_year,end_year)\n",
    "        y = series\n",
    "    return X.reshape(len(X),1),y\n",
    "        \n",
    "#     slide = array[:lag]\n",
    "#     result.append(np.mean(slide))\n",
    "#     for i in range(len(array)-lag+1):\n",
    "        \n",
    "#         result.append(np.mean(slide))\n",
    "        "
   ]
  },
  {
   "cell_type": "code",
   "execution_count": 6,
   "metadata": {
    "collapsed": true
   },
   "outputs": [],
   "source": [
    "for_reach_maxmin_recent = topic_map[[str(i) for i in range(1995,2018)]]\n",
    "\n",
    "def reach_min_recent(row):\n",
    "    vally = int(row.idxmin())\n",
    "    if vally>=2013:\n",
    "        return 1\n",
    "\n",
    "def reach_max_recent(row):\n",
    "    peak = int(row.idxmax())\n",
    "    if peak>=2013:\n",
    "        return 1\n",
    "    \n",
    "def get_ES_index(row):\n",
    "    peak = row['1995']\n",
    "    vally = row['2017']\n",
    "    return peak-vally"
   ]
  },
  {
   "cell_type": "code",
   "execution_count": 7,
   "metadata": {
    "collapsed": true
   },
   "outputs": [],
   "source": [
    "#topic_map = topic_map[[i for i in topic_map.columns if not i.startswith('19')]]\n",
    "start_year = 2000\n",
    "#if start_year>=2000:\n",
    " #   topic_map = topic_map[[i for i in topic_map.columns if not i.startswith('19')]]\n",
    "topic_map = topic_map[topic_map[[str(i) for i in range(start_year,2018)]].max(axis = 1)>0.01]\n",
    "ignore = ['new','novel','biomaterials standard report','applied biomaterials standard','via','human','fatigue','blood','use','method']\n",
    "topic_map = topic_map[~topic_map['topic'].isin(ignore)].reset_index(drop = True)\n",
    "topic_map.loc[:,'number_of_increase'] = (topic_map.loc[:,[str(i)+'(gap)' for i in range(start_year,2018)]]>0).sum(axis = 1)\n",
    "topic_map.loc[:,'mostly_increase'] = (topic_map.loc[:,[str(i)+'(gap)' for i in range(start_year,2018)]]>0).sum(axis = 1)>int((2018-start_year)/2)\n"
   ]
  },
  {
   "cell_type": "code",
   "execution_count": 8,
   "metadata": {},
   "outputs": [
    {
     "name": "stderr",
     "output_type": "stream",
     "text": [
      "//anaconda/lib/python3.5/site-packages/scipy/linalg/basic.py:1226: RuntimeWarning: internal gelsd driver lwork query error, required iwork dimension not returned. This is likely the result of LAPACK bug 0038, fixed in LAPACK 3.2.2 (released July 21, 2010). Falling back to 'gelss' driver.\n",
      "  warnings.warn(mesg, RuntimeWarning)\n"
     ]
    }
   ],
   "source": [
    "seed = topic_map[[str(i) for i in range(start_year,2018)]]\n",
    "\n",
    "result = []\n",
    "for row in seed.index:\n",
    "    X,y = get_Xy_for_ols(start_year,2018,seed.loc[row],lag = 0,MA = False)\n",
    "    line_fit = LinearRegression()\n",
    "    line_fit.fit(X,y)\n",
    "    coef = line_fit.coef_\n",
    "    result.append(coef)\n",
    "topic_map.loc[:,'linear_coef'] = result"
   ]
  },
  {
   "cell_type": "code",
   "execution_count": 9,
   "metadata": {
    "collapsed": true
   },
   "outputs": [],
   "source": [
    "for_reach_maxmin_recent = topic_map[[str(i) for i in range(start_year,2018)]]\n",
    "topic_map.loc[:,'reach_max_recent'] = for_reach_maxmin_recent.apply(lambda x:reach_max_recent(x),axis = 1)\n",
    "topic_map.loc[:,'reach_min_recent'] = for_reach_maxmin_recent.apply(lambda x:reach_min_recent(x),axis = 1)"
   ]
  },
  {
   "cell_type": "code",
   "execution_count": 10,
   "metadata": {
    "collapsed": true
   },
   "outputs": [],
   "source": [
    "topic_map.loc[(topic_map['mostly_increase']==True) & (topic_map['linear_coef']>0) & (topic_map['reach_max_recent']==1),'emerging']=1"
   ]
  },
  {
   "cell_type": "code",
   "execution_count": 11,
   "metadata": {
    "collapsed": true
   },
   "outputs": [],
   "source": [
    "topic_map.loc[(topic_map['mostly_increase']==False) & (topic_map['linear_coef']<0) & (topic_map['reach_min_recent']==1),'shrinking'] = 1"
   ]
  },
  {
   "cell_type": "code",
   "execution_count": 12,
   "metadata": {
    "collapsed": true
   },
   "outputs": [],
   "source": [
    "emerging_topics = topic_map[topic_map['emerging']==1]\n",
    "shrinking_topics = topic_map[topic_map['shrinking']==1]"
   ]
  },
  {
   "cell_type": "code",
   "execution_count": 13,
   "metadata": {
    "collapsed": true
   },
   "outputs": [],
   "source": [
    "emerging_topic_list = emerging_topics['topic'].values\n",
    "shrinking_topic_list = shrinking_topics['topic'].values"
   ]
  },
  {
   "cell_type": "code",
   "execution_count": 35,
   "metadata": {
    "collapsed": true
   },
   "outputs": [],
   "source": [
    "topic_map.loc[(topic_map['emerging'].isnull())&(topic_map['shrinking'].isnull()),'neutral'] = 1"
   ]
  },
  {
   "cell_type": "code",
   "execution_count": 40,
   "metadata": {},
   "outputs": [
    {
     "data": {
      "text/html": [
       "<div>\n",
       "<style scoped>\n",
       "    .dataframe tbody tr th:only-of-type {\n",
       "        vertical-align: middle;\n",
       "    }\n",
       "\n",
       "    .dataframe tbody tr th {\n",
       "        vertical-align: top;\n",
       "    }\n",
       "\n",
       "    .dataframe thead th {\n",
       "        text-align: right;\n",
       "    }\n",
       "</style>\n",
       "<table border=\"1\" class=\"dataframe\">\n",
       "  <thead>\n",
       "    <tr style=\"text-align: right;\">\n",
       "      <th></th>\n",
       "      <th>topic</th>\n",
       "      <th>doc_index</th>\n",
       "      <th>1995</th>\n",
       "      <th>1996</th>\n",
       "      <th>1997</th>\n",
       "      <th>1998</th>\n",
       "      <th>1999</th>\n",
       "      <th>2000</th>\n",
       "      <th>2001</th>\n",
       "      <th>2002</th>\n",
       "      <th>...</th>\n",
       "      <th>linear_coef</th>\n",
       "      <th>reach_max_recent</th>\n",
       "      <th>reach_min_recent</th>\n",
       "      <th>emerging</th>\n",
       "      <th>shrinking</th>\n",
       "      <th>emerging_period_start</th>\n",
       "      <th>emerging_period_end</th>\n",
       "      <th>shrinking_period_start</th>\n",
       "      <th>shrinking_period_end</th>\n",
       "      <th>neutral</th>\n",
       "    </tr>\n",
       "  </thead>\n",
       "  <tbody>\n",
       "    <tr>\n",
       "      <th>0</th>\n",
       "      <td>polyester</td>\n",
       "      <td>105;125;274;326;392;549;560;582;652;692;1010;1...</td>\n",
       "      <td>0.003333</td>\n",
       "      <td>0.008403</td>\n",
       "      <td>0.000000</td>\n",
       "      <td>0.002193</td>\n",
       "      <td>0.008016</td>\n",
       "      <td>0.007313</td>\n",
       "      <td>0.010000</td>\n",
       "      <td>0.010974</td>\n",
       "      <td>...</td>\n",
       "      <td>-0.024182</td>\n",
       "      <td>NaN</td>\n",
       "      <td>1.0</td>\n",
       "      <td>NaN</td>\n",
       "      <td>1.0</td>\n",
       "      <td>NaN</td>\n",
       "      <td>NaN</td>\n",
       "      <td>2005.0</td>\n",
       "      <td>2009.0</td>\n",
       "      <td>NaN</td>\n",
       "    </tr>\n",
       "    <tr>\n",
       "      <th>1</th>\n",
       "      <td>investigation</td>\n",
       "      <td>302;432;656;659;777;802;827;1038;1148;1626;174...</td>\n",
       "      <td>0.006667</td>\n",
       "      <td>0.002801</td>\n",
       "      <td>0.005249</td>\n",
       "      <td>0.006579</td>\n",
       "      <td>0.004008</td>\n",
       "      <td>0.005484</td>\n",
       "      <td>0.003333</td>\n",
       "      <td>0.009602</td>\n",
       "      <td>...</td>\n",
       "      <td>0.001517</td>\n",
       "      <td>NaN</td>\n",
       "      <td>NaN</td>\n",
       "      <td>NaN</td>\n",
       "      <td>NaN</td>\n",
       "      <td>NaN</td>\n",
       "      <td>NaN</td>\n",
       "      <td>NaN</td>\n",
       "      <td>NaN</td>\n",
       "      <td>1.0</td>\n",
       "    </tr>\n",
       "    <tr>\n",
       "      <th>2</th>\n",
       "      <td>biofilm</td>\n",
       "      <td>147;159;231;272;611;678;712;837;896;1035;1144;...</td>\n",
       "      <td>0.003333</td>\n",
       "      <td>0.005602</td>\n",
       "      <td>0.005249</td>\n",
       "      <td>0.004386</td>\n",
       "      <td>0.004008</td>\n",
       "      <td>0.005484</td>\n",
       "      <td>0.006667</td>\n",
       "      <td>0.000000</td>\n",
       "      <td>...</td>\n",
       "      <td>0.018618</td>\n",
       "      <td>NaN</td>\n",
       "      <td>NaN</td>\n",
       "      <td>NaN</td>\n",
       "      <td>NaN</td>\n",
       "      <td>NaN</td>\n",
       "      <td>NaN</td>\n",
       "      <td>NaN</td>\n",
       "      <td>NaN</td>\n",
       "      <td>1.0</td>\n",
       "    </tr>\n",
       "    <tr>\n",
       "      <th>3</th>\n",
       "      <td>self-assembly</td>\n",
       "      <td>35;163;292;460;480;523;541;545;594;597;706;719...</td>\n",
       "      <td>0.006667</td>\n",
       "      <td>0.000000</td>\n",
       "      <td>0.000000</td>\n",
       "      <td>0.013158</td>\n",
       "      <td>0.002004</td>\n",
       "      <td>0.003656</td>\n",
       "      <td>0.008333</td>\n",
       "      <td>0.005487</td>\n",
       "      <td>...</td>\n",
       "      <td>0.104989</td>\n",
       "      <td>NaN</td>\n",
       "      <td>NaN</td>\n",
       "      <td>NaN</td>\n",
       "      <td>NaN</td>\n",
       "      <td>NaN</td>\n",
       "      <td>NaN</td>\n",
       "      <td>NaN</td>\n",
       "      <td>NaN</td>\n",
       "      <td>1.0</td>\n",
       "    </tr>\n",
       "    <tr>\n",
       "      <th>4</th>\n",
       "      <td>gel</td>\n",
       "      <td>1;149;501;596;702;727;999;1033;1066;1106;1116;...</td>\n",
       "      <td>0.006667</td>\n",
       "      <td>0.008403</td>\n",
       "      <td>0.007874</td>\n",
       "      <td>0.010965</td>\n",
       "      <td>0.008016</td>\n",
       "      <td>0.012797</td>\n",
       "      <td>0.003333</td>\n",
       "      <td>0.010974</td>\n",
       "      <td>...</td>\n",
       "      <td>0.023970</td>\n",
       "      <td>NaN</td>\n",
       "      <td>NaN</td>\n",
       "      <td>NaN</td>\n",
       "      <td>NaN</td>\n",
       "      <td>NaN</td>\n",
       "      <td>NaN</td>\n",
       "      <td>NaN</td>\n",
       "      <td>NaN</td>\n",
       "      <td>1.0</td>\n",
       "    </tr>\n",
       "  </tbody>\n",
       "</table>\n",
       "<p>5 rows × 82 columns</p>\n",
       "</div>"
      ],
      "text/plain": [
       "           topic                                          doc_index      1995  \\\n",
       "0      polyester  105;125;274;326;392;549;560;582;652;692;1010;1...  0.003333   \n",
       "1  investigation  302;432;656;659;777;802;827;1038;1148;1626;174...  0.006667   \n",
       "2        biofilm  147;159;231;272;611;678;712;837;896;1035;1144;...  0.003333   \n",
       "3  self-assembly  35;163;292;460;480;523;541;545;594;597;706;719...  0.006667   \n",
       "4            gel  1;149;501;596;702;727;999;1033;1066;1106;1116;...  0.006667   \n",
       "\n",
       "       1996      1997      1998      1999      2000      2001      2002  \\\n",
       "0  0.008403  0.000000  0.002193  0.008016  0.007313  0.010000  0.010974   \n",
       "1  0.002801  0.005249  0.006579  0.004008  0.005484  0.003333  0.009602   \n",
       "2  0.005602  0.005249  0.004386  0.004008  0.005484  0.006667  0.000000   \n",
       "3  0.000000  0.000000  0.013158  0.002004  0.003656  0.008333  0.005487   \n",
       "4  0.008403  0.007874  0.010965  0.008016  0.012797  0.003333  0.010974   \n",
       "\n",
       "    ...     linear_coef  reach_max_recent  reach_min_recent  emerging  \\\n",
       "0   ...       -0.024182               NaN               1.0       NaN   \n",
       "1   ...        0.001517               NaN               NaN       NaN   \n",
       "2   ...        0.018618               NaN               NaN       NaN   \n",
       "3   ...        0.104989               NaN               NaN       NaN   \n",
       "4   ...        0.023970               NaN               NaN       NaN   \n",
       "\n",
       "   shrinking  emerging_period_start  emerging_period_end  \\\n",
       "0        1.0                    NaN                  NaN   \n",
       "1        NaN                    NaN                  NaN   \n",
       "2        NaN                    NaN                  NaN   \n",
       "3        NaN                    NaN                  NaN   \n",
       "4        NaN                    NaN                  NaN   \n",
       "\n",
       "   shrinking_period_start  shrinking_period_end  neutral  \n",
       "0                  2005.0                2009.0      NaN  \n",
       "1                     NaN                   NaN      1.0  \n",
       "2                     NaN                   NaN      1.0  \n",
       "3                     NaN                   NaN      1.0  \n",
       "4                     NaN                   NaN      1.0  \n",
       "\n",
       "[5 rows x 82 columns]"
      ]
     },
     "execution_count": 40,
     "metadata": {},
     "output_type": "execute_result"
    }
   ],
   "source": [
    "topic_map.head()"
   ]
  },
  {
   "cell_type": "markdown",
   "metadata": {},
   "source": [
    "### Detect the Shrinking Period and Growing Period for Each of the Topic"
   ]
  },
  {
   "cell_type": "code",
   "execution_count": 16,
   "metadata": {
    "collapsed": true
   },
   "outputs": [],
   "source": [
    "def movingFit(index,start_year = 2000,end_year = 2018,window = 5):\n",
    "    year_range = list(range(start_year,end_year))\n",
    "    X = get_X_array_normal(start_year,start_year+window)\n",
    "    X = X.reshape(len(X),1)\n",
    "    left = start_year\n",
    "    right = start_year+window\n",
    "    coefs = []\n",
    "    while(right<=end_year):\n",
    "        y = topic_map.loc[index,[str(i) for i in range(left,right)]]\n",
    "        line_fit = LinearRegression()\n",
    "        line_fit.fit(X,y)\n",
    "        coef = line_fit.coef_\n",
    "        coefs.append(coef[0])\n",
    "        left+=1\n",
    "        right+=1\n",
    "    emerging_period = (year_range[np.argmax(coefs)],year_range[np.argmax(coefs)]+4)\n",
    "    shrinking_period = (year_range[np.argmin(coefs)],year_range[np.argmin(coefs)]+4)\n",
    "#     if max(coefs)<0:\n",
    "#         emerging_period = (np.NaN,np.NaN)\n",
    "#     else:\n",
    "#         emerging_period = (year_range[np.argmax(coefs)],year_range[np.argmax(coefs)]+4)\n",
    "#     if min(coefs)>0:\n",
    "#         shrinking_period = (np.NaN,np.NaN)\n",
    "#     else:\n",
    "#         shrinking_period = (year_range[np.argmin(coefs)],year_range[np.argmin(coefs)]+4)\n",
    "    return emerging_period,shrinking_period"
   ]
  },
  {
   "cell_type": "code",
   "execution_count": 17,
   "metadata": {
    "collapsed": true
   },
   "outputs": [],
   "source": [
    "\n",
    "for i in emerging_topics.index:\n",
    "    temp = movingFit(i)[0]\n",
    "    #emerging_period.append(temp)\n",
    "    topic_map.loc[i,'emerging_period_start'] = temp[0]\n",
    "    topic_map.loc[i,'emerging_period_end'] = temp[1]\n",
    "\n",
    "for i in shrinking_topics.index:\n",
    "    temp = movingFit(i)[1]\n",
    "    #emerging_period.append(temp)\n",
    "    topic_map.loc[i,'shrinking_period_start'] = temp[0]\n",
    "    topic_map.loc[i,'shrinking_period_end'] = temp[1]"
   ]
  },
  {
   "cell_type": "code",
   "execution_count": 75,
   "metadata": {
    "collapsed": true
   },
   "outputs": [],
   "source": [
    "topic_map = pd.read_csv(os.path.join(current_data_store_path,'topic_map_v2_2.csv'))"
   ]
  },
  {
   "cell_type": "code",
   "execution_count": 18,
   "metadata": {
    "collapsed": true
   },
   "outputs": [],
   "source": [
    "for t in emerging_topic_list:\n",
    "    data.loc[data[t]==1,'emerging'] = 1\n",
    "for t in shrinking_topic_list:\n",
    "    data.loc[data[t]==1,'shrinking'] = 1\n",
    "data.loc[(data['emerging']==1)&(data['shrinking']==1),'emergingAndShrinking'] = 1"
   ]
  },
  {
   "cell_type": "code",
   "execution_count": 41,
   "metadata": {
    "collapsed": true
   },
   "outputs": [],
   "source": [
    "topic_map.to_csv(os.path.join(current_data_store_path,'topic_map_trend_v2_2.csv'),index=False)"
   ]
  },
  {
   "cell_type": "code",
   "execution_count": 20,
   "metadata": {
    "collapsed": true
   },
   "outputs": [],
   "source": [
    "data.to_csv(os.path.join(current_data_store_path,'wholeFile_with_wholeTopic_v2_2.csv'),index=False)"
   ]
  }
 ],
 "metadata": {
  "anaconda-cloud": {},
  "kernelspec": {
   "display_name": "Python [default]",
   "language": "python",
   "name": "python3"
  },
  "language_info": {
   "codemirror_mode": {
    "name": "ipython",
    "version": 3
   },
   "file_extension": ".py",
   "mimetype": "text/x-python",
   "name": "python",
   "nbconvert_exporter": "python",
   "pygments_lexer": "ipython3",
   "version": "3.5.4"
  }
 },
 "nbformat": 4,
 "nbformat_minor": 1
}
